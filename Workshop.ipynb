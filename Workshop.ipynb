{
  "nbformat": 4,
  "nbformat_minor": 0,
  "metadata": {
    "colab": {
      "name": "Workshop.ipynb",
      "provenance": [],
      "collapsed_sections": [
        "EzERo1cH9ely",
        "VsuOUwdt_vin",
        "lGrzqaZwAt7e",
        "xOc1mUOqCezm"
      ],
      "mount_file_id": "1gJErRIM369KRKFmzOhfnB8zvMHMuS9Qh",
      "authorship_tag": "ABX9TyPETSJe2oPiWjDXeTd0ysaf",
      "include_colab_link": true
    },
    "kernelspec": {
      "name": "python3",
      "display_name": "Python 3"
    },
    "language_info": {
      "name": "python"
    }
  },
  "cells": [
    {
      "cell_type": "markdown",
      "metadata": {
        "id": "view-in-github",
        "colab_type": "text"
      },
      "source": [
        "<a href=\"https://colab.research.google.com/github/Poulinakis-Konstantinos/Deep-Learning-Plant-Disease-Detector/blob/master/Workshop.ipynb\" target=\"_parent\"><img src=\"https://colab.research.google.com/assets/colab-badge.svg\" alt=\"Open In Colab\"/></a>"
      ]
    },
    {
      "cell_type": "markdown",
      "metadata": {
        "id": "Th2LaNLH62SF"
      },
      "source": [
        "# Workshop on Google   Colab for AI Session. \n",
        "#### Konstantinos Poulinakis "
      ]
    },
    {
      "cell_type": "markdown",
      "metadata": {
        "id": "4WBWhXDoevsO"
      },
      "source": [
        "### Intro"
      ]
    },
    {
      "cell_type": "markdown",
      "metadata": {
        "id": "idesCmUo7NeW"
      },
      "source": [
        "Google Colab is an amazing gift to the data science community from the fine folks at Google.  Colab gives us the ability to build complex and heavy machine learning and deep learning models without having to expend our machine’s limited resources.\n",
        "\n",
        " \n",
        "\n",
        "*    Colab is a hosted Jupyter notebook service that requires no setup to use, while providing free access to computing resources including GPUs. It is PLUG & PLAY !\n",
        "*   Jupyter is the open source project on which  Colab is based.  Colab allows you to use and share Jupyter notebooks with others without having to download, install, or run anything.\n",
        "*  Currently it supports only Python 3, although there is interest to also include R and Scala. (Python 2 support has died) \n",
        "\n",
        "\n",
        "\n",
        "\n",
        "\n",
        "\n",
        "\n",
        "\n",
        "\n",
        "\n",
        "\n"
      ]
    },
    {
      "cell_type": "markdown",
      "metadata": {
        "id": "EzERo1cH9ely"
      },
      "source": [
        "### How long can notebooks run in  Colab?\n",
        "\n",
        "Notebooks run by connecting to virtual machines that have **maximum lifetimes that can be as much as 12 hours**. Notebooks will also **disconnect from VMs when left idle for too long**. Maximum VM lifetime and idle timeout behavior may vary over time, or based on your usage. Users interested in longer VM lifetimes and more lenient idle timeout behaviors that don’t vary as much over time may be interested in  Colab Pro.\n",
        "\n",
        "GPUs and TPUs are sometimes prioritized for users who use  Colab interactively rather than for long-running computations, or for users who have recently used less resources in  Colab.\n",
        "\n",
        " Colab does not publish these limits, in part because they can (and sometimes do) vary quickly\n"
      ]
    },
    {
      "cell_type": "markdown",
      "metadata": {
        "id": "VsuOUwdt_vin"
      },
      "source": [
        "### To get the most out of  Colab, \n",
        "\n",
        "Consider closing your  Colab tabs when you are done with your work, and avoid opting for a GPU when it is not needed for your work, especially when you get errors such as \"Your GPU is not utilized\". This will make it less likely that you will run into usage limits in  Colab."
      ]
    },
    {
      "cell_type": "markdown",
      "metadata": {
        "id": "KR921S_OQSHG"
      },
      "source": [
        "## Code cells\n",
        "Below is a **code cell**. Once the toolbar button indicates CONNECTED, click in the cell to select it and execute the contents in the following ways:\n",
        "\n",
        "* Click the **Play icon** in the left gutter of the cell;\n",
        "* Type **Cmd/Ctrl+Enter** to run the cell in place;\n",
        "* Type **Shift+Enter** to run the cell and move focus to the next cell (adding one if none exists); or\n",
        "* Type **Alt+Enter** to run the cell and insert a new code cell immediately below it.\n",
        "\n",
        "There are additional options for running some or all cells in the **Runtime** menu.\n"
      ]
    },
    {
      "cell_type": "markdown",
      "metadata": {
        "id": "lGrzqaZwAt7e"
      },
      "source": [
        "## Opening/Creating Notebooks\n",
        "\n",
        "\n",
        "1.   Create New Notebook\n",
        "2.   Opening/Importing existing notebooks (ctrl + O)\n",
        "    *   Upload .ipynb from machine .\n",
        "    *   Import .ipynb from Google Drive .\n",
        "    *   Import from GitHub .\n",
        "\n",
        "\n",
        "\n",
        "\n",
        "\n"
      ]
    },
    {
      "cell_type": "markdown",
      "metadata": {
        "id": "xOc1mUOqCezm"
      },
      "source": [
        "## Downloading / Saving your work\n",
        "\n",
        "1.  Save on Google Drive ( This is the default when you ctrl+ S).\n",
        "2.  Download notebook as \".ipynb\" or \".py\" format  [ *File > Download > Download as __* ]\n",
        "3.  Save directly on a Public GitHub repo that you have access to     [ *File > Save a copy in GitHub* ]\n",
        "\n"
      ]
    },
    {
      "cell_type": "markdown",
      "metadata": {
        "id": "eFFQX6w-Ew6i"
      },
      "source": [
        "## Revision History ( integrated version control )   [ File > Revision history ]\n",
        " Can be used to roll back to a different date or version of your notebook. Usefull for correcting mistakes or restoring deleted cells/code .\n",
        "\n",
        " You can \n",
        "\n",
        "\n",
        "1.   Name versions\n",
        "2.   Restore older versions\n",
        "3.   Open older version in Colab ( You can only save it as a different file in Drive)\n",
        "\n",
        "\n"
      ]
    },
    {
      "cell_type": "code",
      "metadata": {
        "id": "pOSERiaZvAzH",
        "cellView": "form"
      },
      "source": [
        "#@title\n",
        "bug=False\n",
        "while(bug):\n",
        "  print(\" BUG \")\n",
        "print(\" Everything is working, don't worry :) \")  "
      ],
      "execution_count": null,
      "outputs": []
    },
    {
      "cell_type": "markdown",
      "metadata": {
        "id": "qKNqj-uvsg4t"
      },
      "source": [
        "## Some usefull options/features\n",
        "\n",
        "1.   Open a \"live code cell\" and see executed history.  [ view > Executed history ]\n",
        "2.   View notebook info [ view > Notebook info ] \n",
        "1.   Find & Replace  [ edit > Find and replace   or ctrl+H ]\n",
        "2.   Clear all outputs  [ edit > Clear all output ]\n",
        "3.   Show/Hide output.  [ view > Show/hide output  or ctrl+ M O ]\n",
        "4.   Show/Hide code .  [ view > Show/hide code ]\n",
        "\n"
      ]
    },
    {
      "cell_type": "code",
      "metadata": {
        "cellView": "form",
        "id": "DfEMS65njI6C"
      },
      "source": [
        "#@title\n",
        "# This is another output\n",
        "print(\"This is some output to showcase ctr + M O  shortcut\")"
      ],
      "execution_count": null,
      "outputs": []
    },
    {
      "cell_type": "markdown",
      "metadata": {
        "id": "FhN-c0ET1bpf"
      },
      "source": [
        "### Automatic Completion / Documentation window"
      ]
    },
    {
      "cell_type": "code",
      "metadata": {
        "id": "aFd2Kb_b1kB9"
      },
      "source": [
        "import keras \n",
        "from keras import applications\n",
        "import numpy as np"
      ],
      "execution_count": 20,
      "outputs": []
    },
    {
      "cell_type": "code",
      "metadata": {
        "id": "jS53DNlr13wE"
      },
      "source": [
        "# as you complete sentence with \".\" a list of available modules opens. You can reopen the list by pressing ctrl+space\n",
        "keras.applications.\n",
        "\n",
        "# Opening a parenthesis displays a windo with the documentation. Open it again by hovering over with the mouse.\n",
        "# On that windows click \"Open in tab\" option to the documentation on a tab at the bottom of the screen.\n",
        "# Click \"View source\" to view the modules source code !\n",
        "np()\n"
      ],
      "execution_count": null,
      "outputs": []
    },
    {
      "cell_type": "code",
      "metadata": {
        "colab": {
          "base_uri": "https://localhost:8080/"
        },
        "id": "EVr0gOzT71SP",
        "outputId": "0fbf736f-394e-4355-f9cd-92dc4ab7c071"
      },
      "source": [
        "for i in range(0,8,2):\n",
        "  print(\"this is a test\")\n",
        "  j=[1,2,2,3,4,5,1]\n",
        "   \n",
        "  sum= j[i]+i\n",
        "  print(sum)"
      ],
      "execution_count": 21,
      "outputs": [
        {
          "output_type": "stream",
          "text": [
            "this is a test\n",
            "1\n",
            "this is a test\n",
            "4\n",
            "this is a test\n",
            "8\n",
            "this is a test\n",
            "7\n"
          ],
          "name": "stdout"
        }
      ]
    },
    {
      "cell_type": "markdown",
      "metadata": {
        "id": "h5X27YNmlxVE"
      },
      "source": [
        "## Mounting google drive on google Colab\n",
        "\n",
        "> Indented block\n",
        "\n"
      ]
    },
    {
      "cell_type": "code",
      "metadata": {
        "colab": {
          "base_uri": "https://localhost:8080/"
        },
        "id": "YTQs-ZffmKD2",
        "outputId": "896ae42b-1728-4d48-9dcd-840df4c1eaf1"
      },
      "source": [
        "from google.colab import drive\n",
        "drive.mount('/content/Google_drive')"
      ],
      "execution_count": 34,
      "outputs": [
        {
          "output_type": "stream",
          "text": [
            "Mounted at /content/Google_drive\n"
          ],
          "name": "stdout"
        }
      ]
    },
    {
      "cell_type": "code",
      "metadata": {
        "colab": {
          "base_uri": "https://localhost:8080/"
        },
        "id": "pSQcC1nxmKD3",
        "outputId": "e7242419-7e2d-48aa-c8f6-22da012815ca"
      },
      "source": [
        "with open('/content/Google_drive/MyDrive/foo.txt', 'w') as f:\n",
        "  f.write('Hello Google Drive!')\n",
        "!cat '/content/Google_drive/MyDrive/foo.txt'"
      ],
      "execution_count": 43,
      "outputs": [
        {
          "output_type": "stream",
          "text": [
            "Hello Google Drive!"
          ],
          "name": "stdout"
        }
      ]
    },
    {
      "cell_type": "markdown",
      "metadata": {
        "id": "XRM2fHgpnsR0"
      },
      "source": [
        "## **Find** ready code cells in the Code snippets section !!!!"
      ]
    },
    {
      "cell_type": "code",
      "metadata": {
        "id": "FY-NrPSUoOMg"
      },
      "source": [
        "# Insert code snippets"
      ],
      "execution_count": null,
      "outputs": []
    },
    {
      "cell_type": "markdown",
      "metadata": {
        "id": "4sGsOx1opBzy"
      },
      "source": [
        "## Advanced features"
      ]
    },
    {
      "cell_type": "markdown",
      "metadata": {
        "id": "qM4myQGfQboQ"
      },
      "source": [
        "## Magic Lines\n",
        "Colaboratory shares the notion of magics from Jupyter. They are shorthand annotations that change how a cell's text is executed. To learn more, see [Jupyter's magics page](http://nbviewer.jupyter.org/github/ipython/ipython/blob/1.x/examples/notebooks/Cell%20Magics.ipynb). \n"
      ]
    },
    {
      "cell_type": "code",
      "metadata": {
        "colab": {
          "base_uri": "https://localhost:8080/",
          "height": 164
        },
        "id": "E8zoCG2tydRS",
        "outputId": "10dc2089-1756-40aa-9985-118904f9935b"
      },
      "source": [
        "# Print all available magics ! \n",
        "%lsmagic"
      ],
      "execution_count": 148,
      "outputs": [
        {
          "output_type": "execute_result",
          "data": {
            "application/json": {
              "cell": {
                "prun": "ExecutionMagics",
                "file": "Other",
                "!": "OSMagics",
                "capture": "ExecutionMagics",
                "timeit": "ExecutionMagics",
                "script": "ScriptMagics",
                "pypy": "Other",
                "system": "OSMagics",
                "perl": "Other",
                "html": "DisplayMagics",
                "bash": "Other",
                "shell": "Other",
                "HTML": "Other",
                "python": "Other",
                "SVG": "Other",
                "javascript": "DisplayMagics",
                "bigquery": "Other",
                "js": "DisplayMagics",
                "writefile": "OSMagics",
                "ruby": "Other",
                "python3": "Other",
                "python2": "Other",
                "latex": "DisplayMagics",
                "sx": "OSMagics",
                "svg": "DisplayMagics",
                "sh": "Other",
                "time": "ExecutionMagics",
                "debug": "ExecutionMagics"
              },
              "line": {
                "psource": "NamespaceMagics",
                "logstart": "LoggingMagics",
                "popd": "OSMagics",
                "tensorflow_version": "Other",
                "loadpy": "CodeMagics",
                "colors": "BasicMagics",
                "who_ls": "NamespaceMagics",
                "lf": "Other",
                "ll": "Other",
                "pprint": "BasicMagics",
                "lk": "Other",
                "ls": "Other",
                "save": "CodeMagics",
                "tb": "ExecutionMagics",
                "lx": "Other",
                "pylab": "PylabMagics",
                "killbgscripts": "ScriptMagics",
                "quickref": "BasicMagics",
                "magic": "BasicMagics",
                "dhist": "OSMagics",
                "edit": "KernelMagics",
                "logstop": "LoggingMagics",
                "gui": "BasicMagics",
                "prun": "ExecutionMagics",
                "debug": "ExecutionMagics",
                "page": "BasicMagics",
                "logstate": "LoggingMagics",
                "ed": "Other",
                "pushd": "OSMagics",
                "timeit": "ExecutionMagics",
                "set_env": "OSMagics",
                "rehashx": "OSMagics",
                "hist": "Other",
                "qtconsole": "KernelMagics",
                "rm": "Other",
                "dirs": "OSMagics",
                "run": "ExecutionMagics",
                "reset_selective": "NamespaceMagics",
                "pinfo2": "NamespaceMagics",
                "matplotlib": "PylabMagics",
                "unload_ext": "ExtensionMagics",
                "doctest_mode": "BasicMagics",
                "logoff": "LoggingMagics",
                "reload_ext": "ExtensionMagics",
                "pdb": "ExecutionMagics",
                "load": "CodeMagics",
                "lsmagic": "BasicMagics",
                "autosave": "KernelMagics",
                "cd": "OSMagics",
                "pastebin": "CodeMagics",
                "alias_magic": "BasicMagics",
                "cp": "Other",
                "autocall": "AutoMagics",
                "ldir": "Other",
                "bookmark": "OSMagics",
                "connect_info": "KernelMagics",
                "mkdir": "Other",
                "system": "OSMagics",
                "whos": "NamespaceMagics",
                "rmdir": "Other",
                "automagic": "AutoMagics",
                "store": "StoreMagics",
                "more": "KernelMagics",
                "shell": "Other",
                "pdef": "NamespaceMagics",
                "precision": "BasicMagics",
                "pinfo": "NamespaceMagics",
                "pwd": "OSMagics",
                "psearch": "NamespaceMagics",
                "reset": "NamespaceMagics",
                "recall": "HistoryMagics",
                "xdel": "NamespaceMagics",
                "xmode": "BasicMagics",
                "cat": "Other",
                "mv": "Other",
                "rerun": "HistoryMagics",
                "logon": "LoggingMagics",
                "history": "HistoryMagics",
                "pycat": "OSMagics",
                "pip": "Other",
                "unalias": "OSMagics",
                "env": "OSMagics",
                "load_ext": "ExtensionMagics",
                "config": "ConfigMagics",
                "profile": "BasicMagics",
                "pfile": "NamespaceMagics",
                "less": "KernelMagics",
                "who": "NamespaceMagics",
                "notebook": "BasicMagics",
                "man": "KernelMagics",
                "sx": "OSMagics",
                "macro": "ExecutionMagics",
                "clear": "KernelMagics",
                "alias": "OSMagics",
                "time": "ExecutionMagics",
                "sc": "OSMagics",
                "rep": "Other",
                "pdoc": "NamespaceMagics"
              }
            },
            "text/plain": [
              "Available line magics:\n",
              "%alias  %alias_magic  %autocall  %automagic  %autosave  %bookmark  %cat  %cd  %clear  %colors  %config  %connect_info  %cp  %debug  %dhist  %dirs  %doctest_mode  %ed  %edit  %env  %gui  %hist  %history  %killbgscripts  %ldir  %less  %lf  %lk  %ll  %load  %load_ext  %loadpy  %logoff  %logon  %logstart  %logstate  %logstop  %ls  %lsmagic  %lx  %macro  %magic  %man  %matplotlib  %mkdir  %more  %mv  %notebook  %page  %pastebin  %pdb  %pdef  %pdoc  %pfile  %pinfo  %pinfo2  %pip  %popd  %pprint  %precision  %profile  %prun  %psearch  %psource  %pushd  %pwd  %pycat  %pylab  %qtconsole  %quickref  %recall  %rehashx  %reload_ext  %rep  %rerun  %reset  %reset_selective  %rm  %rmdir  %run  %save  %sc  %set_env  %shell  %store  %sx  %system  %tb  %tensorflow_version  %time  %timeit  %unalias  %unload_ext  %who  %who_ls  %whos  %xdel  %xmode\n",
              "\n",
              "Available cell magics:\n",
              "%%!  %%HTML  %%SVG  %%bash  %%bigquery  %%capture  %%debug  %%file  %%html  %%javascript  %%js  %%latex  %%perl  %%prun  %%pypy  %%python  %%python2  %%python3  %%ruby  %%script  %%sh  %%shell  %%svg  %%sx  %%system  %%time  %%timeit  %%writefile\n",
              "\n",
              "Automagic is ON, % prefix IS NOT needed for line magics."
            ]
          },
          "metadata": {
            "tags": []
          },
          "execution_count": 148
        }
      ]
    },
    {
      "cell_type": "markdown",
      "metadata": {
        "id": "-sUwtbbYvGuF"
      },
      "source": [
        "### System commands \n",
        "\n",
        " You can invoke shell commands by using either %%shell or %%bash \"cell magics\" or by prefixing the command with ! ."
      ]
    },
    {
      "cell_type": "code",
      "metadata": {
        "colab": {
          "base_uri": "https://localhost:8080/"
        },
        "id": "t_Wx_um4vGDG",
        "outputId": "66e4e2e1-cac3-4e73-a7c5-edb2e890225b"
      },
      "source": [
        "!echo \"Use ! as prefix, before running linux commands :\"\n",
        "\n",
        "!ls"
      ],
      "execution_count": 134,
      "outputs": [
        {
          "output_type": "stream",
          "text": [
            "Use ! as prefix, before running linux commands :\n",
            "drive  gdrive  Google_drive  sample_data\n"
          ],
          "name": "stdout"
        }
      ]
    },
    {
      "cell_type": "code",
      "metadata": {
        "colab": {
          "base_uri": "https://localhost:8080/"
        },
        "id": "KAxJB16CvSPf",
        "outputId": "1b2b4e1f-d6ce-4d62-a96d-eeee73f6bdfc"
      },
      "source": [
        "%%shell\n",
        "echo \"Just use the magic line  ' %%shell ' :\"\n",
        "\n",
        "ls | grep 'sample_data'"
      ],
      "execution_count": 137,
      "outputs": [
        {
          "output_type": "stream",
          "text": [
            "Just use the magic line  ' %%shell ' :\n",
            "sample_data\n"
          ],
          "name": "stdout"
        },
        {
          "output_type": "execute_result",
          "data": {
            "text/plain": [
              ""
            ]
          },
          "metadata": {
            "tags": []
          },
          "execution_count": 137
        }
      ]
    },
    {
      "cell_type": "code",
      "metadata": {
        "colab": {
          "base_uri": "https://localhost:8080/"
        },
        "id": "Rgns9SCLvVhm",
        "outputId": "69fd3c15-99c1-4b31-97ba-db06e04bcd90"
      },
      "source": [
        "%%bash\n",
        "echo \" Or the magic line '%%bash'   :\"\n",
        "\n",
        "ls | grep 'sample_data' "
      ],
      "execution_count": 141,
      "outputs": [
        {
          "output_type": "stream",
          "text": [
            " Or the magic line '%%bash'   :\n",
            "sample_data\n"
          ],
          "name": "stdout"
        }
      ]
    },
    {
      "cell_type": "markdown",
      "metadata": {
        "id": "T8XUJJv2pEW1"
      },
      "source": [
        "## Create forms !\n",
        "\n",
        "Use Insert> Add a form field   or customize your own directly on the shell.\n",
        "\n",
        "To create your own on the shell use comment lines together with the special parameters :\n",
        "\n",
        "@title [title name] : for title name \n",
        "\n",
        "@param {type:\"slider\", min:0.5, max:5, step:0.1} : To create interactible parameters\n",
        "\n",
        "**Check the example below !**"
      ]
    },
    {
      "cell_type": "code",
      "metadata": {
        "id": "i6Vr2Z9Q_ncJ",
        "colab": {
          "base_uri": "https://localhost:8080/",
          "height": 354
        },
        "outputId": "d2618820-2e3e-4226-e6a2-4bbc3de9d111"
      },
      "source": [
        "#@title _y=asin(bx+c)_ parameters, noise level and figure size\n",
        "import matplotlib.pyplot as plt \n",
        "import numpy as np \n",
        "\n",
        "a = 3 #@param {type:\"integer\"}\n",
        "b = 1 #@param {type:\"slider\", min:0.5, max:5, step:0.1}\n",
        "c = 2.2 #@param {type: \"slider\", min:0, max:5, step:0.1}\n",
        "noise = 0.1 #@param {type:\"slider\", min:0, max:1, step:0.1}\n",
        "fig_size = 5 #@param {type:\"slider\", min:4, max:10, step:1}\n",
        "\n",
        "x = np.arange(-10, 10, 0.01)\n",
        "y_sin = a*np.sin(b*x) + c + noise*np.random.normal(size=x.shape)\n",
        "plt.figure(figsize=(fig_size, fig_size))\n",
        "plt.plot(x, y_sin)\n",
        "plt.xlabel('x', fontsize=14, style='italic')\n",
        "plt.ylabel('y', fontsize=14, style='italic')\n",
        "plt.title('Sine wave')\n",
        "plt.show()\n"
      ],
      "execution_count": 103,
      "outputs": [
        {
          "output_type": "display_data",
          "data": {
            "image/png": "[encoded data removed]",
            "text/plain": [
              "<Figure size 360x360 with 1 Axes>"
            ]
          },
          "metadata": {
            "tags": [],
            "needs_background": "light"
          }
        }
      ]
    },
    {
      "cell_type": "code",
      "metadata": {
        "colab": {
          "base_uri": "https://localhost:8080/"
        },
        "cellView": "form",
        "id": "rIxiIiBUuedt",
        "outputId": "02dd7176-0fe6-46d9-c931-5621507f842a"
      },
      "source": [
        "message = \"I love this workshop\" #@param [\"I love this workshop\", \"Seems interesting\", \"Easy stuff \", \"I have been scrolling instagram for the past 10 minutes\"]\n",
        "print(\"Please give a rating on the workshop: \")\n",
        "print(message)"
      ],
      "execution_count": 145,
      "outputs": [
        {
          "output_type": "stream",
          "text": [
            "Please give a rating on the workshop: \n",
            "I love this workshop\n"
          ],
          "name": "stdout"
        }
      ]
    },
    {
      "cell_type": "code",
      "metadata": {
        "colab": {
          "base_uri": "https://localhost:8080/",
          "height": 35
        },
        "id": "odfM-_GxWbCy",
        "cellView": "form",
        "outputId": "03ff3c5a-8046-4290-b679-845bcedf4d04"
      },
      "source": [
        "#@title\n",
        "%%html\n",
        "<marquee style='width: 30%; color: red;'><b> THANK YOU FOR YOUR ATTENTION!!</b></marquee>"
      ],
      "execution_count": 146,
      "outputs": [
        {
          "output_type": "display_data",
          "data": {
            "text/html": [
              "<marquee style='width: 30%; color: red;'><b> THANK YOU FOR YOUR ATTENTION!!</b></marquee>"
            ],
            "text/plain": [
              "<IPython.core.display.HTML object>"
            ]
          },
          "metadata": {
            "tags": []
          }
        }
      ]
    }
  ]
}