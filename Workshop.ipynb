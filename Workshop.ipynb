{
  "nbformat": 4,
  "nbformat_minor": 0,
  "metadata": {
    "colab": {
      "name": "Workshop.ipynb",
      "provenance": [],
      "collapsed_sections": [
        "4WBWhXDoevsO",
        "X6YEU5BHROTK",
        "eYY4fVtbSDYv",
        "lGrzqaZwAt7e",
        "xOc1mUOqCezm",
        "qKNqj-uvsg4t",
        "FhN-c0ET1bpf",
        "eFFQX6w-Ew6i",
        "XRM2fHgpnsR0",
        "EjQR66O0W6-L",
        "h5X27YNmlxVE",
        "zo_GVGgmZvi5",
        "qM4myQGfQboQ",
        "-sUwtbbYvGuF",
        "1AIERqk5gVtk",
        "r4vBnyjTdGxX",
        "T8XUJJv2pEW1"
      ],
      "mount_file_id": "1gJErRIM369KRKFmzOhfnB8zvMHMuS9Qh",
      "authorship_tag": "ABX9TyPkPhB+3bSoEGBr1EwIUgiX",
      "include_colab_link": true
    },
    "kernelspec": {
      "name": "python3",
      "display_name": "Python 3"
    },
    "language_info": {
      "name": "python"
    }
  },
  "cells": [
    {
      "cell_type": "markdown",
      "metadata": {
        "id": "view-in-github",
        "colab_type": "text"
      },
      "source": [
        "<a href=\"https://colab.research.google.com/github/Poulinakis-Konstantinos/Deep-Learning-Plant-Disease-Detector/blob/master/Workshop.ipynb\" target=\"_parent\"><img src=\"https://colab.research.google.com/assets/colab-badge.svg\" alt=\"Open In Colab\"/></a>"
      ]
    },
    {
      "cell_type": "markdown",
      "metadata": {
        "id": "Th2LaNLH62SF"
      },
      "source": [
        "# Workshop on Google   Colab for AI Session. \n",
        "#### Konstantinos Poulinakis "
      ]
    },
    {
      "cell_type": "markdown",
      "metadata": {
        "id": "rFSwe_16Q0BK"
      },
      "source": [
        "welcome you to the google colab"
      ]
    },
    {
      "cell_type": "markdown",
      "metadata": {
        "id": "4WBWhXDoevsO"
      },
      "source": [
        "### Intro"
      ]
    },
    {
      "cell_type": "markdown",
      "metadata": {
        "id": "idesCmUo7NeW"
      },
      "source": [
        "Google Colab is an amazing gift to the data science community from the fine folks at Google.  Colab gives us the ability to build complex and heavy machine learning and deep learning models without having to expend our machine’s limited resources.\n",
        "\n",
        " \n",
        "\n",
        "*    Colab is a hosted Jupyter notebook service that requires no setup to use, while providing free access to computing resources including GPUs. It is PLUG & PLAY !\n",
        "*   Jupyter is the open source project on which  Colab is based.  Colab allows you to use and share Jupyter notebooks with others without having to download, install, or run anything.\n",
        "*  Currently it supports only Python 3, although there is interest to also include R and Scala. (Python 2 support has died) \n",
        "\n",
        "\n",
        "\n",
        "\n",
        "\n",
        "\n",
        "\n",
        "\n",
        "\n",
        "\n",
        "\n"
      ]
    },
    {
      "cell_type": "markdown",
      "metadata": {
        "id": "X6YEU5BHROTK"
      },
      "source": [
        "### How long can notebooks run in  Colab?"
      ]
    },
    {
      "cell_type": "markdown",
      "metadata": {
        "id": "EzERo1cH9ely"
      },
      "source": [
        "Notebooks run by connecting to virtual machines that have **maximum lifetimes that can be as much as 12 hours**. Notebooks will also **disconnect from VMs when left idle for too long**. Maximum VM lifetime and idle timeout behavior may vary over time, or based on your usage. Users interested in longer VM lifetimes and more lenient idle timeout behaviors that don’t vary as much over time may be interested in  Colab Pro.\n",
        "\n",
        "GPUs and TPUs are sometimes prioritized for users who use  Colab interactively rather than for long-running computations, or for users who have recently used less resources in  Colab.\n",
        "\n",
        " Colab does not publish these limits, in part because they can (and sometimes do) vary quickly\n",
        "\n",
        "#### To get the most out of  Colab, \n",
        "\n",
        "Consider closing your  Colab tabs when you are done with your work, and avoid opting for a GPU when it is not needed for your work, especially when you get errors such as \"Your GPU is not utilized\". This will make it less likely that you will run into usage limits in  Colab.\n"
      ]
    },
    {
      "cell_type": "markdown",
      "metadata": {
        "id": "eYY4fVtbSDYv"
      },
      "source": [
        "## Necessary Knowledge"
      ]
    },
    {
      "cell_type": "markdown",
      "metadata": {
        "id": "KR921S_OQSHG"
      },
      "source": [
        "### Executing code cells ( The fancy way ) \n",
        "Below is a **code cell**. Once the toolbar button indicates CONNECTED, click in the cell to select it and execute the contents in the following ways:\n",
        "\n",
        "* Click the **Play icon** in the left gutter of the cell;\n",
        "* Type **Cmd/Ctrl+Enter** to run the cell in place;\n",
        "* Type **Shift+Enter** to run the cell and move focus to the next cell (adding one if none exists); or\n",
        "* Type **Alt+Enter** to run the cell and insert a new code cell immediately below it.\n",
        "\n",
        "There are additional options for running some or all cells in the **Runtime** menu.\n"
      ]
    },
    {
      "cell_type": "code",
      "metadata": {
        "colab": {
          "base_uri": "https://localhost:8080/"
        },
        "id": "tB4kw7FzuYrn",
        "outputId": "45ca6081-016a-46da-d24a-74c011c88fb3"
      },
      "source": [
        "print(\"hello\")"
      ],
      "execution_count": 1,
      "outputs": [
        {
          "output_type": "stream",
          "text": [
            "hello\n"
          ],
          "name": "stdout"
        }
      ]
    },
    {
      "cell_type": "code",
      "metadata": {
        "id": "p2d4lI-AuffE"
      },
      "source": [
        ""
      ],
      "execution_count": null,
      "outputs": []
    },
    {
      "cell_type": "markdown",
      "metadata": {
        "id": "lGrzqaZwAt7e"
      },
      "source": [
        "### Opening/Creating Notebooks\n",
        "\n",
        "\n",
        "1.   Create New Notebook\n",
        "2.   Opening/Importing existing notebooks (ctrl + O)\n",
        "    *   Upload .ipynb from machine .\n",
        "    *   Import .ipynb from Google Drive .\n",
        "    *   Import from GitHub .\n",
        "\n",
        "\n",
        "\n",
        "\n",
        "\n"
      ]
    },
    {
      "cell_type": "markdown",
      "metadata": {
        "id": "xOc1mUOqCezm"
      },
      "source": [
        "### Downloading / Saving your work\n",
        "\n",
        "1.  Save on Google Drive ( This is the default when you ctrl+ S).\n",
        "2.  Download notebook as \".ipynb\" or \".py\" format  [ *File > Download > Download as __* ]\n",
        "3.  Save directly on a Public GitHub repo that you have access to     [ *File > Save a copy in GitHub* ]\n",
        "\n"
      ]
    },
    {
      "cell_type": "markdown",
      "metadata": {
        "id": "qKNqj-uvsg4t"
      },
      "source": [
        "## Some usefull options/features\n",
        "\n",
        "1.   Open a \"live code cell\" and see executed history.  [ view > Executed history ]\n",
        "2.   View notebook info [ view > Notebook info ] \n",
        "1.   Find & Replace  [ edit > Find and replace   or ctrl+H ]\n",
        "2.   Clear all outputs  [ edit > Clear all output ]\n",
        "3.   Show/Hide output.  [ view > Show/hide output  or ctrl+ M O ]\n",
        "4.   Show/Hide code .  [ view > Show/hide code ]\n",
        "\n"
      ]
    },
    {
      "cell_type": "code",
      "metadata": {
        "id": "DfEMS65njI6C",
        "cellView": "form"
      },
      "source": [
        "#@title\n",
        "# This is another output\n",
        "print(\"This is some output to showcase ctr + M O  shortcut\")"
      ],
      "execution_count": null,
      "outputs": []
    },
    {
      "cell_type": "markdown",
      "metadata": {
        "id": "FhN-c0ET1bpf"
      },
      "source": [
        "### Automatic Completion / Documentation window"
      ]
    },
    {
      "cell_type": "code",
      "metadata": {
        "id": "aFd2Kb_b1kB9"
      },
      "source": [
        "import keras \n",
        "from keras import applications\n",
        "import numpy as np"
      ],
      "execution_count": null,
      "outputs": []
    },
    {
      "cell_type": "code",
      "metadata": {
        "id": "jS53DNlr13wE"
      },
      "source": [
        "# as you complete sentence with \".\" a list of available modules opens. You can reopen the list by pressing ctrl+space\n",
        "keras.applications.\n",
        "\n",
        "# Opening a parenthesis displays a windo with the documentation. Open it again by hovering over with the mouse.\n",
        "# On that windows click \"Open in tab\" option to the documentation on a tab at the bottom of the screen.\n",
        "# Click \"View source\" to view the modules source code !\n",
        "np()\n"
      ],
      "execution_count": null,
      "outputs": []
    },
    {
      "cell_type": "markdown",
      "metadata": {
        "id": "eFFQX6w-Ew6i"
      },
      "source": [
        "## Revision History ( integrated version control )   [ File > Revision history ]\n",
        " Can be used to roll back to a different date or version of your notebook. Usefull for correcting mistakes or restoring deleted cells/code .\n",
        "\n",
        " You can \n",
        "\n",
        "\n",
        "1.   Name versions\n",
        "2.   Restore older versions\n",
        "3.   Open older version in Colab ( You can only save it as a different file in Drive)\n",
        "\n",
        "\n"
      ]
    },
    {
      "cell_type": "code",
      "metadata": {
        "id": "pOSERiaZvAzH",
        "colab": {
          "base_uri": "https://localhost:8080/"
        },
        "cellView": "form",
        "outputId": "d16776a4-317c-4be8-b39b-1b2e23184c82"
      },
      "source": [
        "#@title\n",
        "bug=False\n",
        "while(bug):\n",
        "  print(\" BUG \")\n",
        "print(\" Everything is working, don't worry :) \")  "
      ],
      "execution_count": null,
      "outputs": [
        {
          "output_type": "stream",
          "text": [
            " Everything is working, don't worry :) \n"
          ],
          "name": "stdout"
        }
      ]
    },
    {
      "cell_type": "markdown",
      "metadata": {
        "id": "XRM2fHgpnsR0"
      },
      "source": [
        "## Code snippets\n",
        "### Find ready code cells in the Code snippets section !!\n",
        "\n",
        "### Or create your own code snippets !!"
      ]
    },
    {
      "cell_type": "code",
      "metadata": {
        "id": "FY-NrPSUoOMg"
      },
      "source": [
        "# Insert code snippets"
      ],
      "execution_count": null,
      "outputs": []
    },
    {
      "cell_type": "markdown",
      "metadata": {
        "id": "EjQR66O0W6-L"
      },
      "source": [
        "### Checking RAM/GPU"
      ]
    },
    {
      "cell_type": "markdown",
      "metadata": {
        "id": "vI_JPkxrXAES"
      },
      "source": [
        "To see the memory resources available for your process, type the following command −"
      ]
    },
    {
      "cell_type": "code",
      "metadata": {
        "id": "uplyQGpnW52d"
      },
      "source": [
        "!cat /proc/meminfo"
      ],
      "execution_count": null,
      "outputs": []
    },
    {
      "cell_type": "code",
      "metadata": {
        "id": "Z5yDv9j5YBkK"
      },
      "source": [
        "import tensorflow as tf\n",
        "tf.test.gpu_device_name()\n",
        "# '/device:GPU:0' Means GPU is enabled"
      ],
      "execution_count": null,
      "outputs": []
    },
    {
      "cell_type": "markdown",
      "metadata": {
        "id": "h5X27YNmlxVE"
      },
      "source": [
        "### Mounting google drive on google Colab\n",
        "\n",
        "\n"
      ]
    },
    {
      "cell_type": "code",
      "metadata": {
        "id": "YTQs-ZffmKD2"
      },
      "source": [
        "from google.colab import drive\n",
        "drive.mount('/content/Google_drive')"
      ],
      "execution_count": null,
      "outputs": []
    },
    {
      "cell_type": "code",
      "metadata": {
        "id": "pSQcC1nxmKD3"
      },
      "source": [
        "with open('/content/drive/MyDrive/foo.txt', 'w') as f:\n",
        "  f.write('Hello Google Drive!')\n",
        "!cat '/content/drive/MyDrive/foo.txt'"
      ],
      "execution_count": null,
      "outputs": []
    },
    {
      "cell_type": "markdown",
      "metadata": {
        "id": "zo_GVGgmZvi5"
      },
      "source": [
        "### Uploading/Downloading files"
      ]
    },
    {
      "cell_type": "markdown",
      "metadata": {
        "id": "PxJraO3eca3h"
      },
      "source": [
        "Keep in mind that files uploaded to Google Colab will be deleted after session ends.\n",
        "\n",
        "To upload a file or several from your computer, run :"
      ]
    },
    {
      "cell_type": "code",
      "metadata": {
        "id": "0iFeF1NLZvEI"
      },
      "source": [
        "from google.colab import files\n",
        "files.upload()"
      ],
      "execution_count": null,
      "outputs": []
    },
    {
      "cell_type": "markdown",
      "metadata": {
        "id": "JunwhxtphWtw"
      },
      "source": [
        "To download a file to your computer run :"
      ]
    },
    {
      "cell_type": "code",
      "metadata": {
        "id": "kkH0sw0rcnxD"
      },
      "source": [
        "from google.colab import files\n",
        "files.download('path/to/your/file')"
      ],
      "execution_count": null,
      "outputs": []
    },
    {
      "cell_type": "markdown",
      "metadata": {
        "id": "4sGsOx1opBzy"
      },
      "source": [
        "## Advanced features"
      ]
    },
    {
      "cell_type": "markdown",
      "metadata": {
        "id": "qM4myQGfQboQ"
      },
      "source": [
        "### Magic Lines\n",
        "Colaboratory shares the notion of magics from Jupyter. They are shorthand annotations that change how a cell's text is executed. To learn more, see [Jupyter's magics page](http://nbviewer.jupyter.org/github/ipython/ipython/blob/1.x/examples/notebooks/Cell%20Magics.ipynb). \n"
      ]
    },
    {
      "cell_type": "code",
      "metadata": {
        "id": "E8zoCG2tydRS"
      },
      "source": [
        "# Print all available magics ! \n",
        "%lsmagic"
      ],
      "execution_count": null,
      "outputs": []
    },
    {
      "cell_type": "code",
      "metadata": {
        "id": "Eu5yC_ukTFsW"
      },
      "source": [
        "%time \n",
        "Best_AI_frameworks = ['Tensorflow','Keras']\n",
        "garbage = 'Pytorch'\n",
        "if garbage in Best_AI_frameworks:\n",
        "  print(\"Of course it is the best\")\n",
        "else:\n",
        "  print(\"You kidding ?\")"
      ],
      "execution_count": null,
      "outputs": []
    },
    {
      "cell_type": "code",
      "metadata": {
        "id": "Os-9GJD9WKKv"
      },
      "source": [
        "%%html\n",
        "# code will be executed as html"
      ],
      "execution_count": null,
      "outputs": []
    },
    {
      "cell_type": "code",
      "metadata": {
        "id": "8ifvPbviWVPq"
      },
      "source": [
        "%%js\n",
        "# code will be executed as html"
      ],
      "execution_count": null,
      "outputs": []
    },
    {
      "cell_type": "markdown",
      "metadata": {
        "id": "-sUwtbbYvGuF"
      },
      "source": [
        "### System commands \n",
        "\n",
        " You can invoke shell commands by using either %%shell or %%bash \"cell magics\" or by prefixing the command with ! ."
      ]
    },
    {
      "cell_type": "code",
      "metadata": {
        "id": "t_Wx_um4vGDG"
      },
      "source": [
        "!echo \"Use ! as prefix, before running linux commands :\"\n",
        "\n",
        "!ls"
      ],
      "execution_count": null,
      "outputs": []
    },
    {
      "cell_type": "code",
      "metadata": {
        "id": "KAxJB16CvSPf"
      },
      "source": [
        "%%shell\n",
        "echo \"Just use the magic line  ' %%shell ' :\"\n",
        "\n",
        "ls | grep 'sample_data'"
      ],
      "execution_count": null,
      "outputs": []
    },
    {
      "cell_type": "code",
      "metadata": {
        "id": "Rgns9SCLvVhm"
      },
      "source": [
        "%%bash\n",
        "echo \" Or the magic line '%%bash'   :\"\n",
        "\n",
        "ls | grep 'sample_data' "
      ],
      "execution_count": null,
      "outputs": []
    },
    {
      "cell_type": "markdown",
      "metadata": {
        "id": "1AIERqk5gVtk"
      },
      "source": [
        "### Downloading datasets directly from Kaggle "
      ]
    },
    {
      "cell_type": "markdown",
      "metadata": {
        "id": "iTNbAD5Ag_An"
      },
      "source": [
        "If you want to work with a dataset that is hosted on Colab you can directly download from the notebook. Downloading with Google's internet speed is a blessing, up to 100 MB/s !! Keep in mind that files will be deleted when session ends.\n",
        "\n",
        "You will need to set up your Kaggle account download a kaggle.json file. Running the script below will prompt you to upload your kaggle.json file. \n",
        "\n",
        "Kaggle datasets usually come as zip files, it's wise to automatically unzip them in the same script."
      ]
    },
    {
      "cell_type": "code",
      "metadata": {
        "id": "6krqe11DgUxL"
      },
      "source": [
        "from google.colab import files\n",
        "#Upload your kaggle.json file \n",
        "files.upload() \n",
        "\n",
        "!mkdir -p  ~/.kaggle\n",
        "!cp kaggle.json ~/.kaggle/\n",
        "!chmod 600 ~/.kaggle/kaggle.json\n",
        "\n",
        "#Copy the API command from kaggle .\n",
        "!kaggle datasets download -d vipoooool/new-plant-diseases-dataset\n",
        "\n",
        "#Unzip dataset ,always with -q (quiet)\n",
        "!unzip -q /content/new-plant-diseases-dataset.zip"
      ],
      "execution_count": null,
      "outputs": []
    },
    {
      "cell_type": "markdown",
      "metadata": {
        "id": "r4vBnyjTdGxX"
      },
      "source": [
        "## DISPLAY DATAFRAMES AS INTERACTIVE TABLES"
      ]
    },
    {
      "cell_type": "markdown",
      "metadata": {
        "id": "mDeLPT7EeFRi"
      },
      "source": [
        "Colab includes an extension that renders pandas dataframes into interactive tables that can be filtered, sorted, and explored dynamically."
      ]
    },
    {
      "cell_type": "code",
      "metadata": {
        "id": "kpJW3c78dHrG"
      },
      "source": [
        "%load_ext google.colab.data_table\n",
        "from vega_datasets import data\n",
        "data.airports()"
      ],
      "execution_count": null,
      "outputs": []
    },
    {
      "cell_type": "code",
      "metadata": {
        "id": "pUnHo_ideoit"
      },
      "source": [
        "# Or customize it through the API data_tables\n",
        "from google.colab import data_table\n",
        "data_table.DataTable(data.airports(), include_index=False, num_rows_per_page=10)"
      ],
      "execution_count": null,
      "outputs": []
    },
    {
      "cell_type": "markdown",
      "metadata": {
        "id": "PHujMiqpd3X9"
      },
      "source": [
        "To restore the native pandas dataframe display, use the following:"
      ]
    },
    {
      "cell_type": "code",
      "metadata": {
        "id": "-iQMILEqeKgR"
      },
      "source": [
        "%unload_ext google.colab.data_table\n",
        "data.airports()"
      ],
      "execution_count": null,
      "outputs": []
    },
    {
      "cell_type": "markdown",
      "metadata": {
        "id": "T8XUJJv2pEW1"
      },
      "source": [
        "## Create forms, interactive inputs !\n",
        "\n",
        "Use Insert> Add a form field   or customize your own directly on the shell.\n",
        "\n",
        "To create your own on the shell use comment lines together with the special parameters :\n",
        "\n",
        "@title [title name] : for title name \n",
        "\n",
        "@param {type:\"slider\", min:0.5, max:5, step:0.1} : To create interactible parameters\n",
        "\n",
        "**Check the example below !**"
      ]
    },
    {
      "cell_type": "code",
      "metadata": {
        "id": "i6Vr2Z9Q_ncJ"
      },
      "source": [
        "#@title _y=asin(bx+c)_ parameters, noise level and figure size\n",
        "import matplotlib.pyplot as plt \n",
        "import numpy as np \n",
        "\n",
        "a = 3 #@param {type:\"integer\"}\n",
        "b = 1 #@param {type:\"slider\", min:0.5, max:5, step:0.1}\n",
        "c = 2.2 #@param {type: \"slider\", min:0, max:5, step:0.1}\n",
        "noise = 0.1 #@param {type:\"slider\", min:0, max:1, step:0.1}\n",
        "fig_size = 5 #@param {type:\"slider\", min:4, max:10, step:1}\n",
        "\n",
        "x = np.arange(-10, 10, 0.01)\n",
        "y_sin = a*np.sin(b*x) + c + noise*np.random.normal(size=x.shape)\n",
        "plt.figure(figsize=(fig_size, fig_size))\n",
        "plt.plot(x, y_sin)\n",
        "plt.xlabel('x', fontsize=14, style='italic')\n",
        "plt.ylabel('y', fontsize=14, style='italic')\n",
        "plt.title('Sine wave')\n",
        "plt.show()\n"
      ],
      "execution_count": null,
      "outputs": []
    },
    {
      "cell_type": "code",
      "metadata": {
        "cellView": "form",
        "id": "rIxiIiBUuedt"
      },
      "source": [
        "message = \"I love this workshop\" #@param [\"I love this workshop\", \"Seems interesting\", \"Easy stuff \", \"I have been scrolling instagram for the past 10 minutes\"]\n",
        "print(\"Please give a rating on the workshop: \")\n",
        "print(message)"
      ],
      "execution_count": null,
      "outputs": []
    },
    {
      "cell_type": "markdown",
      "metadata": {
        "id": "wXH54n2Ke5jC"
      },
      "source": [
        ""
      ]
    },
    {
      "cell_type": "code",
      "metadata": {
        "id": "odfM-_GxWbCy",
        "cellView": "form"
      },
      "source": [
        "#@title\n",
        "%%html\n",
        "<marquee style='width: 50%; color: green;'><b> Gracias por su atencion !!</b></marquee>"
      ],
      "execution_count": null,
      "outputs": []
    },
    {
      "cell_type": "code",
      "metadata": {
        "cellView": "form",
        "id": "35qlvYRNfRtS"
      },
      "source": [
        "#@title\n",
        "%%html\n",
        "<marquee style='width: 50%; color: green;'><b> Ευχαριστώ για την προσοχή σας !!</b></marquee>"
      ],
      "execution_count": null,
      "outputs": []
    }
  ]
}