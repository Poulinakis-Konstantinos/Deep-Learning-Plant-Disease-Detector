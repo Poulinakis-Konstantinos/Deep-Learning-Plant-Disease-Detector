{
  "nbformat": 4,
  "nbformat_minor": 0,
  "metadata": {
    "colab": {
      "name": "Plant Disease MobileNetV2 .ipynb",
      "provenance": [],
      "collapsed_sections": []
    },
    "kernelspec": {
      "name": "python3",
      "display_name": "Python 3"
    },
    "accelerator": "GPU"
  },
  "cells": [
    {
      "cell_type": "markdown",
      "metadata": {
        "id": "fCl6gs2YZxNm"
      },
      "source": [
        "##UPDATES\n",
        "\n",
        "***09/04/2021*** : Reorganized code.\n",
        "\n",
        "***10/04/2021*** : Added callbacks in the model.fit function. "
      ]
    },
    {
      "cell_type": "markdown",
      "metadata": {
        "id": "HBgTorMQaRnB"
      },
      "source": [
        "##Purpose"
      ]
    },
    {
      "cell_type": "markdown",
      "metadata": {
        "id": "l7cK2oW8mr_k"
      },
      "source": [
        "  In this notebook we create & train a N.N. model with **transfer learning based on DenseNet169**.\n",
        "\n",
        "  The purpose of of the model is to classify plant's leaf images and extract decisions regarding their health. \n",
        "\n",
        "  It is able to classify **38 different classes** ,13 different plants and some diseases that harm them . \n",
        "\n",
        "  The Model is on it's own very light , but we are still going to convert it into a TF Lite version  in order to **run inference on a portable device , a RaspBerry Pi 4B** . "
      ]
    },
    {
      "cell_type": "markdown",
      "metadata": {
        "id": "SZ5Vuo6Xk96o"
      },
      "source": [
        "###Libraries and modules imports"
      ]
    },
    {
      "cell_type": "code",
      "metadata": {
        "id": "IlmLBbVuyCD-"
      },
      "source": [
        "import tensorflow as tf\n",
        "import matplotlib.pyplot as plt\n",
        "import numpy as np\n",
        "import os\n",
        "import pathlib\n",
        "from google.colab import files\n",
        "from tensorflow import keras\n",
        "from tensorflow.keras.models import Sequential, Model\n",
        "from tensorflow.keras.applications import DenseNet169 #57 MB acc Top1 0.762 top5 0.932\n",
        "from tensorflow.keras.preprocessing import image\n",
        "from tensorflow.keras.layers import Dense, GlobalAveragePooling2D , Dropout"
      ],
      "execution_count": 96,
      "outputs": []
    },
    {
      "cell_type": "markdown",
      "metadata": {
        "id": "aCCb17VWwP7r"
      },
      "source": [
        "###Import a kaggle dataset directly to google colab (be wise with your time !)."
      ]
    },
    {
      "cell_type": "code",
      "metadata": {
        "id": "EHTJtv3et0yn",
        "colab": {
          "resources": {
            "http://localhost:8080/nbextensions/google.colab/files.js": {
              "data": "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",
              "ok": true,
              "headers": [
                [
                  "content-type",
                  "application/javascript"
                ]
              ],
              "status": 200,
              "status_text": "OK"
            }
          },
          "base_uri": "https://localhost:8080/",
          "height": 130
        },
        "outputId": "f0ec29c5-8fc1-45b4-e5d7-31db4ee15bf2"
      },
      "source": [
        "####### SCRIPT TO DOWNLOAD KAGGLE DATASET IN GOOGLE COLAB ######### .\n",
        "from google.colab import files\n",
        "#Upload your kaggle.json file \n",
        "files.upload() \n",
        "\n",
        "!mkdir -p  ~/.kaggle\n",
        "!cp kaggle.json ~/.kaggle/\n",
        "!chmod 600 ~/.kaggle/kaggle.json\n",
        "\n",
        "#Copy the API command from kaggle .\n",
        "!kaggle datasets download -d vipoooool/new-plant-diseases-dataset\n",
        "\n",
        "#Unzip dataset ,always with -q (quiet)\n",
        "!unzip -q /content/new-plant-diseases-dataset.zip"
      ],
      "execution_count": 2,
      "outputs": [
        {
          "output_type": "display_data",
          "data": {
            "text/html": [
              "\n",
              "     <input type=\"file\" id=\"files-3e0139f0-687d-4b47-a1b2-516cbb104e9f\" name=\"files[]\" multiple disabled\n",
              "        style=\"border:none\" />\n",
              "     <output id=\"result-3e0139f0-687d-4b47-a1b2-516cbb104e9f\">\n",
              "      Upload widget is only available when the cell has been executed in the\n",
              "      current browser session. Please rerun this cell to enable.\n",
              "      </output>\n",
              "      <script src=\"/nbextensions/google.colab/files.js\"></script> "
            ],
            "text/plain": [
              "<IPython.core.display.HTML object>"
            ]
          },
          "metadata": {
            "tags": []
          }
        },
        {
          "output_type": "stream",
          "text": [
            "Saving kaggle.json to kaggle.json\n",
            "Downloading new-plant-diseases-dataset.zip to /content\n",
            "100% 2.70G/2.70G [00:42<00:00, 39.0MB/s]\n",
            "100% 2.70G/2.70G [00:42<00:00, 67.7MB/s]\n"
          ],
          "name": "stdout"
        }
      ]
    },
    {
      "cell_type": "markdown",
      "metadata": {
        "id": "eTUw9StOmizy"
      },
      "source": [
        "###Auxiliar Functions"
      ]
    },
    {
      "cell_type": "code",
      "metadata": {
        "id": "Nca7eFJCDe_R"
      },
      "source": [
        "#Necessary data preparation.\n",
        "def data_prep():\n",
        "    #Apply data augmentation on-the-fly on the training set to increase generalizability of the model.\n",
        "    train_datagen = keras.preprocessing.image.ImageDataGenerator(rescale = 1/255,\n",
        "                                                                shear_range = 0.2,\n",
        "                                                                zoom_range = 0.2,\n",
        "                                                                width_shift_range = 0.2,\n",
        "                                                                height_shift_range = 0.2,\n",
        "                                                                fill_mode=\"nearest\")\n",
        "    #Create the pipeline\n",
        "    train_data = train_datagen.flow_from_directory(os.path.join(PATH,\"train\"),\n",
        "                                                  target_size=(image_size,image_size),\n",
        "                                                  batch_size=BATCH_SIZE,\n",
        "                                                  class_mode=\"categorical\")\n",
        "    # Normalize validation dataset's image rgb values.\n",
        "    valid_datagen = keras.preprocessing.image.ImageDataGenerator(rescale = 1/255)\n",
        "    #Create the pipeline\n",
        "    valid_data = valid_datagen.flow_from_directory(os.path.join(PATH,\"valid\"),\n",
        "                                                  target_size=(image_size,image_size),\n",
        "                                                  batch_size=BATCH_SIZE,\n",
        "                                                  class_mode=\"categorical\")\n",
        "    return[train_data,valid_data]"
      ],
      "execution_count": 34,
      "outputs": []
    },
    {
      "cell_type": "code",
      "metadata": {
        "id": "3XaVoTZ7xFfw"
      },
      "source": [
        "#Plot training learning curves for both train and validation.\n",
        "def plot_training_curves(history):\n",
        "        #Defining the metrics we will plot.\n",
        "        train_acc=history.history['accuracy']\n",
        "        val_acc=history.history['val_accuracy']\n",
        "        train_loss = history.history['loss']\n",
        "        val_loss = history.history['val_loss']\n",
        "        \n",
        "        #Range for the X axis.\n",
        "        epochs = range(len(train_loss))\n",
        "        \n",
        "        fig,axis=plt.subplots(1,2,figsize=(20,8))#1 row, 2 col , width=20,height=8 inches.\n",
        "\n",
        "        #Plotting Loss figures.\n",
        "        plt.rcParams.update({'font.size': 22}) #configuring font size.\n",
        "        plt.subplot(1,2,1) #plot 1st curve.\n",
        "        plt.plot(epochs,train_loss,c=\"red\",label=\"Training Loss\") #plotting\n",
        "        plt.plot(epochs,val_loss,c=\"blue\",label=\"Validation Loss\")\n",
        "        plt.xlabel(\"Epochs\") #title for x axis\n",
        "        plt.ylabel(\"Loss\")   #title for y axis\n",
        "        plt.legend()\n",
        "\n",
        "        #Plotting Accuracy figures. \n",
        "        plt.subplot(1,2,2) #plot 2nd curve.\n",
        "        plt.plot(epochs,train_acc,c=\"red\",label=\"Training Acc\") #plotting\n",
        "        plt.plot(epochs,val_acc,c=\"blue\",label=\"Validation Acc\")\n",
        "        plt.xlabel(\"Epochs\")   #title for x axis\n",
        "        plt.ylabel(\"Accuracy\") #title for y axis\n",
        "        plt.legend()"
      ],
      "execution_count": 113,
      "outputs": []
    },
    {
      "cell_type": "code",
      "metadata": {
        "id": "PQc75Bz5GDwr"
      },
      "source": [
        "#Make predictions on manually created test dataset folder. (OPTIONAL, different to initial dataset test set)\n",
        "def test_model(path):\n",
        "    i=0\n",
        "    #Inversing class dictionary [keys,values]->[values,keys]\n",
        "    labels = (train_data.class_indices)\n",
        "    labels = dict((v,k) for k,v in labels.items())\n",
        "\n",
        "    for filename in os.listdir(path) :\n",
        "        i+=1\n",
        "        file_path= path +\"/\" + str(pathlib.Path(filename))\n",
        "      \n",
        "        image = tf.keras.preprocessing.image.load_img(\n",
        "                file_path,grayscale=False, color_mode=\"rgb\",\n",
        "                target_size=(image_size,image_size), interpolation=\"nearest\")\n",
        "        input_arr = keras.preprocessing.image.img_to_array(image)\n",
        "        input_arr=input_arr/255\n",
        "        input_arr = np.array([input_arr])  # Convert single image to a batch.\n",
        "        prediction = model.predict(input_arr)\n",
        "\n",
        "\n",
        "        a=np.argmax(prediction)\n",
        "        results = labels[a] \n",
        "\n",
        "        \n",
        "        print(\"\\n\")\n",
        "      # print(\"Predicted class number :\", np.argmax(prediction))\n",
        "        print(\"Actual class :\" ,pathlib.Path(filename))\n",
        "        print(\"predicted class name->  MobileV2:\",results )\n",
        "        \n",
        "\n",
        "    print(\"\\n Tested: \" ,i, \"new unseen images\")"
      ],
      "execution_count": 77,
      "outputs": []
    },
    {
      "cell_type": "code",
      "metadata": {
        "id": "7lELupQFqOud"
      },
      "source": [
        "def assign_callbacks(weights_file,patience,lr_factor):\n",
        "  return[\n",
        "      #Only save the weights that correspond to the minimum validation loss.\n",
        "      tf.keras.callbacks.ModelCheckpoint(filepath=weights_file,\n",
        "                                         monitor='val_accuracy',\n",
        "                                         mode='max',\n",
        "                                         save_best_only=True ,\n",
        "                                         save_weights_only=True,\n",
        "                                         verbose=0),\n",
        "      #If val_loss doesn't improve for a number of epochs set with 'patience' \n",
        "      #variable, training will stop to avoid overfitting.    \n",
        "      tf.keras.callbacks.EarlyStopping(monitor='val_loss',\n",
        "                                       mode='min',\n",
        "                                       patience=patience,\n",
        "                                       verbose=1),\n",
        "      #Learning rate is reduced by 'lr_factor' if val_loss stagnates\n",
        "      #for a number of epochs set with 'patience/2' variable.\n",
        "      tf.keras.callbacks.ReduceLROnPlateau(monitor='val_loss',\n",
        "                                           mode='min',\n",
        "                                           factor=lr_factor,\n",
        "                                           patience=patience//2,\n",
        "                                           min_lr=1e-6,\n",
        "                                           verbose=1)]\n",
        "\n"
      ],
      "execution_count": 63,
      "outputs": []
    },
    {
      "cell_type": "markdown",
      "metadata": {
        "id": "K0CZurrvoS__"
      },
      "source": [
        "##Experimental parameters"
      ]
    },
    {
      "cell_type": "code",
      "metadata": {
        "id": "2W14LSIAClw5"
      },
      "source": [
        "EPOCHS=100 #Number of epochs to train the model.\n",
        "BATCH_SIZE =32  \n",
        "PATIENCE=EPOCHS//5\n",
        "LR_FACTOR=0.2\n",
        "WEIGHTS_FILE = \"weights.h5\" #File that stores updated weights\n",
        "image_size =224 #needs to comply with CNN input constraints. \n",
        "PATH=\"/content/New Plant Diseases Dataset(Augmented)/New Plant Diseases Dataset(Augmented)\" #Path to dataset\n",
        "TEST_PATH='/content/test/test'"
      ],
      "execution_count": 80,
      "outputs": []
    },
    {
      "cell_type": "code",
      "metadata": {
        "id": "4_LrC6IwFZuh"
      },
      "source": [
        "#The training class names.\n",
        "class_names=[\"Apple___Apple_scab\",\"Apple___Black_rot\",\"Apple___Cedar_apple_rust\",\"Apple___healthy\",\n",
        "             \"Blueberry___healthy\",\"Cherry_(including_sour)__Powedery_mildew\",\"Cherry_(including_sour)__healthy\",\n",
        "             \"Corn_(maize)___Cercospora_leaf_spot Gray_leaf_spot\",\"Corn_(maize)___Common_rust_\",\"Corn_(maize)___Northern_Leaf_Blight\",\n",
        "             \"Corn_(maize)___healthy\",\"Grape___Black_rot\",\"Grape___Esca_(Black_Measles)\",\"Grape___Leaf_blight_(Isariopsis_Leaf_Spot)\",\n",
        "             \"Grape___healthy\",\"Orange___Haunglongbing_(Citrus_greening)\",\"Peach___Bacterial_spot\",\"Peach___healthy\",\n",
        "             \"Pepper,_bell___Bacterial_spot\",\"Pepper,_bell___healthy\",\"Potato___Early_blight\",\"Potato___Late_blight\",\n",
        "             \"Potato___healthy\",\"Raspberry___healthy\",\"Soybean___healthy\",\"Squash___Powdery_mildew\",\n",
        "             \"Strawberry___Leaf_scorch\",\"Strawberry___Healthy\",\"Tomato___Bacterial_spot\",\"Tomato___Early_blight\",\"Tomato___Late_blight\",\n",
        "             \"Tomato___Leaf_Mold\",\"Tomato___Septoria_leaf_spot\",\"Tomato___Spider_mites Two-spotted_spider_mite\",\n",
        "             \"Tomato___Target_Spot\",\"Tomato_Yellow_Leaf_Curl_Virus\",\"Tomato_mosaic_virus\",\"Tomato___healthy\"]"
      ],
      "execution_count": 65,
      "outputs": []
    },
    {
      "cell_type": "markdown",
      "metadata": {
        "id": "nvFqB3gDo4Eu"
      },
      "source": [
        "##Define the Architecture"
      ]
    },
    {
      "cell_type": "code",
      "metadata": {
        "id": "5d-xPccYHcRD"
      },
      "source": [
        "#Create the whole neural network, pass the base model as parameter.\n",
        "def create_model(base_model):\n",
        "      x = base_model.output\n",
        "      #Add a global spatial average pooling layer.\n",
        "      x = GlobalAveragePooling2D()(x)\n",
        "      #Add a fully-connected layer.\n",
        "      x = Dense(1024, activation='relu')(x)\n",
        "      #Add a dropout layer to decrease overfitting\n",
        "      x=Dropout(0.2)(x)\n",
        "      #Add a logistic layer with number_of_neurons=number_of_training_classes.\n",
        "      predictions = Dense(38, activation='softmax')(x)\n",
        "\n",
        "      #This is the model we will train\n",
        "      model = Model(inputs=base_model.input, outputs=predictions \n",
        "                                      ,name=\"Plant_Disease_Detector\")\n",
        "\n",
        "      #Freeze layers of the base model, we will only train the extra layers.\n",
        "      #This way features already learned by the base model aren't lost.\n",
        "      for layer in base_model.layers:\n",
        "          layer.trainable = False\n",
        "\n",
        "      #Assign a base learning rate for the Adam optimizer.\n",
        "      base_learning_rate = 0.001\n",
        "      model.compile(optimizer=tf.keras.optimizers.Adam(lr=base_learning_rate)\n",
        "                    ,loss='categorical_crossentropy' ,metrics='accuracy')\n",
        "      \n",
        "      return model"
      ],
      "execution_count": 104,
      "outputs": []
    },
    {
      "cell_type": "markdown",
      "metadata": {
        "id": "a-G57hf_vIDU"
      },
      "source": [
        "###Execution "
      ]
    },
    {
      "cell_type": "code",
      "metadata": {
        "colab": {
          "base_uri": "https://localhost:8080/"
        },
        "id": "doekGxu5vMKo",
        "outputId": "bfcd660d-2184-4233-afbd-9c1c2286dfa1"
      },
      "source": [
        "#Prepare data\n",
        "train_data,valid_data=data_prep()\n",
        "#Define callbacks for training\n",
        "callbacks=assign_callbacks(WEIGHTS_FILE,PATIENCE,LR_FACTOR)"
      ],
      "execution_count": 67,
      "outputs": [
        {
          "output_type": "stream",
          "text": [
            "Found 70295 images belonging to 38 classes.\n",
            "Found 17572 images belonging to 38 classes.\n"
          ],
          "name": "stdout"
        }
      ]
    },
    {
      "cell_type": "code",
      "metadata": {
        "id": "9QCpGsetmS3K"
      },
      "source": [
        "#Create the base pre-trained model, without the classification layers. \n",
        "base_model =DenseNet169(weights='imagenet',\n",
        "                        include_top=False ,input_shape=(224,224,3))\n",
        "#Create the complete new model.\n",
        "model=create_model(base_model)\n"
      ],
      "execution_count": 105,
      "outputs": []
    },
    {
      "cell_type": "code",
      "metadata": {
        "id": "b4S9GsGaqn7y"
      },
      "source": [
        "#Information about the model's layers.\n",
        "model.summary()"
      ],
      "execution_count": null,
      "outputs": []
    },
    {
      "cell_type": "code",
      "metadata": {
        "id": "ywWvIHeypzi9",
        "colab": {
          "base_uri": "https://localhost:8080/"
        },
        "outputId": "aa00d522-0ad8-4904-ebe5-bc853139828d"
      },
      "source": [
        "#Train the model on the dataset.\n",
        "history=model.fit(x=train_data , batch_size=BATCH_SIZE,\n",
        "                 epochs=EPOCHS , verbose=2 ,\n",
        "                 validation_data=valid_data,\n",
        "                 steps_per_epoch=20,\n",
        "                 validation_steps=10,\n",
        "                 callbacks=callbacks) "
      ],
      "execution_count": 106,
      "outputs": [
        {
          "output_type": "stream",
          "text": [
            "Epoch 1/100\n",
            "20/20 - 19s - loss: 3.2394 - accuracy: 0.2000 - val_loss: 2.1262 - val_accuracy: 0.4656\n",
            "Epoch 2/100\n",
            "20/20 - 9s - loss: 1.8738 - accuracy: 0.4891 - val_loss: 1.4391 - val_accuracy: 0.5938\n",
            "Epoch 3/100\n",
            "20/20 - 9s - loss: 1.3855 - accuracy: 0.6156 - val_loss: 0.9720 - val_accuracy: 0.7375\n",
            "Epoch 4/100\n",
            "20/20 - 9s - loss: 1.1091 - accuracy: 0.6719 - val_loss: 0.7411 - val_accuracy: 0.7812\n",
            "Epoch 5/100\n",
            "20/20 - 9s - loss: 1.0317 - accuracy: 0.6781 - val_loss: 0.7622 - val_accuracy: 0.7625\n",
            "Epoch 6/100\n",
            "20/20 - 9s - loss: 0.7714 - accuracy: 0.7766 - val_loss: 0.6250 - val_accuracy: 0.8094\n",
            "Epoch 7/100\n",
            "20/20 - 9s - loss: 0.7067 - accuracy: 0.7781 - val_loss: 0.5203 - val_accuracy: 0.8313\n",
            "Epoch 8/100\n",
            "20/20 - 9s - loss: 0.8085 - accuracy: 0.7766 - val_loss: 0.5289 - val_accuracy: 0.8313\n",
            "Epoch 9/100\n",
            "20/20 - 9s - loss: 0.6692 - accuracy: 0.8062 - val_loss: 0.4641 - val_accuracy: 0.8656\n",
            "Epoch 10/100\n",
            "20/20 - 9s - loss: 0.5863 - accuracy: 0.8219 - val_loss: 0.4528 - val_accuracy: 0.8687\n",
            "Epoch 11/100\n",
            "20/20 - 9s - loss: 0.5601 - accuracy: 0.8313 - val_loss: 0.4622 - val_accuracy: 0.8687\n",
            "Epoch 12/100\n",
            "20/20 - 9s - loss: 0.5231 - accuracy: 0.8406 - val_loss: 0.4776 - val_accuracy: 0.8375\n",
            "Epoch 13/100\n",
            "20/20 - 9s - loss: 0.5565 - accuracy: 0.8328 - val_loss: 0.5453 - val_accuracy: 0.8281\n",
            "Epoch 14/100\n",
            "20/20 - 9s - loss: 0.5871 - accuracy: 0.8031 - val_loss: 0.3751 - val_accuracy: 0.8969\n",
            "Epoch 15/100\n",
            "20/20 - 9s - loss: 0.4649 - accuracy: 0.8766 - val_loss: 0.3309 - val_accuracy: 0.8875\n",
            "Epoch 16/100\n",
            "20/20 - 9s - loss: 0.5037 - accuracy: 0.8484 - val_loss: 0.3509 - val_accuracy: 0.8781\n",
            "Epoch 17/100\n",
            "20/20 - 9s - loss: 0.4106 - accuracy: 0.8719 - val_loss: 0.4173 - val_accuracy: 0.8656\n",
            "Epoch 18/100\n",
            "20/20 - 9s - loss: 0.5218 - accuracy: 0.8313 - val_loss: 0.4136 - val_accuracy: 0.8625\n",
            "Epoch 19/100\n",
            "20/20 - 9s - loss: 0.4259 - accuracy: 0.8734 - val_loss: 0.4587 - val_accuracy: 0.8562\n",
            "Epoch 20/100\n",
            "20/20 - 9s - loss: 0.4040 - accuracy: 0.8687 - val_loss: 0.3938 - val_accuracy: 0.8719\n",
            "Epoch 21/100\n",
            "20/20 - 9s - loss: 0.3731 - accuracy: 0.8828 - val_loss: 0.3767 - val_accuracy: 0.8844\n",
            "Epoch 22/100\n",
            "20/20 - 9s - loss: 0.4650 - accuracy: 0.8500 - val_loss: 0.2598 - val_accuracy: 0.9250\n",
            "Epoch 23/100\n",
            "20/20 - 9s - loss: 0.4426 - accuracy: 0.8516 - val_loss: 0.3309 - val_accuracy: 0.8938\n",
            "Epoch 24/100\n",
            "20/20 - 9s - loss: 0.4760 - accuracy: 0.8484 - val_loss: 0.3421 - val_accuracy: 0.9062\n",
            "Epoch 25/100\n",
            "20/20 - 9s - loss: 0.4770 - accuracy: 0.8687 - val_loss: 0.2435 - val_accuracy: 0.9187\n",
            "Epoch 26/100\n",
            "20/20 - 9s - loss: 0.3550 - accuracy: 0.8813 - val_loss: 0.3581 - val_accuracy: 0.8719\n",
            "Epoch 27/100\n",
            "20/20 - 9s - loss: 0.4144 - accuracy: 0.8609 - val_loss: 0.2745 - val_accuracy: 0.9156\n",
            "Epoch 28/100\n",
            "20/20 - 9s - loss: 0.3560 - accuracy: 0.8781 - val_loss: 0.2581 - val_accuracy: 0.9125\n",
            "Epoch 29/100\n",
            "20/20 - 9s - loss: 0.3475 - accuracy: 0.8797 - val_loss: 0.3853 - val_accuracy: 0.8594\n",
            "Epoch 30/100\n",
            "20/20 - 9s - loss: 0.3636 - accuracy: 0.8953 - val_loss: 0.2770 - val_accuracy: 0.9125\n",
            "Epoch 31/100\n",
            "20/20 - 9s - loss: 0.3421 - accuracy: 0.8828 - val_loss: 0.2766 - val_accuracy: 0.8938\n",
            "Epoch 32/100\n",
            "20/20 - 9s - loss: 0.3140 - accuracy: 0.9000 - val_loss: 0.1947 - val_accuracy: 0.9375\n",
            "Epoch 33/100\n",
            "20/20 - 9s - loss: 0.3429 - accuracy: 0.8906 - val_loss: 0.3874 - val_accuracy: 0.8750\n",
            "Epoch 34/100\n",
            "20/20 - 9s - loss: 0.4115 - accuracy: 0.8687 - val_loss: 0.3799 - val_accuracy: 0.8781\n",
            "Epoch 35/100\n",
            "20/20 - 9s - loss: 0.4285 - accuracy: 0.8547 - val_loss: 0.3153 - val_accuracy: 0.8781\n",
            "Epoch 36/100\n",
            "20/20 - 9s - loss: 0.3488 - accuracy: 0.8844 - val_loss: 0.3290 - val_accuracy: 0.8938\n",
            "Epoch 37/100\n",
            "20/20 - 9s - loss: 0.3438 - accuracy: 0.8906 - val_loss: 0.2374 - val_accuracy: 0.9125\n",
            "Epoch 38/100\n",
            "20/20 - 9s - loss: 0.4261 - accuracy: 0.8562 - val_loss: 0.2615 - val_accuracy: 0.9187\n",
            "Epoch 39/100\n",
            "20/20 - 9s - loss: 0.4102 - accuracy: 0.8703 - val_loss: 0.2549 - val_accuracy: 0.9250\n",
            "Epoch 40/100\n",
            "20/20 - 9s - loss: 0.4138 - accuracy: 0.8516 - val_loss: 0.2041 - val_accuracy: 0.9344\n",
            "Epoch 41/100\n",
            "20/20 - 9s - loss: 0.3168 - accuracy: 0.9031 - val_loss: 0.2602 - val_accuracy: 0.9094\n",
            "Epoch 42/100\n",
            "20/20 - 9s - loss: 0.3371 - accuracy: 0.8953 - val_loss: 0.2185 - val_accuracy: 0.9187\n",
            "\n",
            "Epoch 00042: ReduceLROnPlateau reducing learning rate to 0.00020000000949949026.\n",
            "Epoch 43/100\n",
            "20/20 - 9s - loss: 0.2997 - accuracy: 0.9016 - val_loss: 0.1547 - val_accuracy: 0.9469\n",
            "Epoch 44/100\n",
            "20/20 - 9s - loss: 0.2749 - accuracy: 0.9172 - val_loss: 0.2162 - val_accuracy: 0.9344\n",
            "Epoch 45/100\n",
            "20/20 - 9s - loss: 0.2559 - accuracy: 0.9172 - val_loss: 0.1683 - val_accuracy: 0.9625\n",
            "Epoch 46/100\n",
            "20/20 - 9s - loss: 0.2605 - accuracy: 0.9250 - val_loss: 0.2389 - val_accuracy: 0.9062\n",
            "Epoch 47/100\n",
            "20/20 - 9s - loss: 0.2231 - accuracy: 0.9312 - val_loss: 0.2092 - val_accuracy: 0.9438\n",
            "Epoch 48/100\n",
            "20/20 - 9s - loss: 0.2202 - accuracy: 0.9312 - val_loss: 0.1759 - val_accuracy: 0.9406\n",
            "Epoch 49/100\n",
            "20/20 - 9s - loss: 0.1898 - accuracy: 0.9406 - val_loss: 0.2062 - val_accuracy: 0.9187\n",
            "Epoch 50/100\n",
            "20/20 - 9s - loss: 0.2240 - accuracy: 0.9297 - val_loss: 0.1748 - val_accuracy: 0.9219\n",
            "Epoch 51/100\n",
            "20/20 - 9s - loss: 0.1762 - accuracy: 0.9375 - val_loss: 0.1034 - val_accuracy: 0.9750\n",
            "Epoch 52/100\n",
            "20/20 - 9s - loss: 0.2107 - accuracy: 0.9312 - val_loss: 0.1799 - val_accuracy: 0.9469\n",
            "Epoch 53/100\n",
            "20/20 - 9s - loss: 0.2212 - accuracy: 0.9250 - val_loss: 0.1666 - val_accuracy: 0.9406\n",
            "Epoch 54/100\n",
            "20/20 - 9s - loss: 0.1905 - accuracy: 0.9297 - val_loss: 0.2132 - val_accuracy: 0.9406\n",
            "Epoch 55/100\n",
            "20/20 - 9s - loss: 0.2121 - accuracy: 0.9328 - val_loss: 0.1483 - val_accuracy: 0.9406\n",
            "Epoch 56/100\n",
            "20/20 - 9s - loss: 0.2106 - accuracy: 0.9250 - val_loss: 0.1465 - val_accuracy: 0.9500\n",
            "Epoch 57/100\n",
            "20/20 - 9s - loss: 0.2199 - accuracy: 0.9297 - val_loss: 0.1729 - val_accuracy: 0.9406\n",
            "Epoch 58/100\n",
            "20/20 - 9s - loss: 0.2408 - accuracy: 0.9297 - val_loss: 0.1541 - val_accuracy: 0.9438\n",
            "Epoch 59/100\n",
            "20/20 - 9s - loss: 0.2331 - accuracy: 0.9172 - val_loss: 0.2418 - val_accuracy: 0.9250\n",
            "Epoch 60/100\n",
            "20/20 - 9s - loss: 0.2003 - accuracy: 0.9344 - val_loss: 0.1501 - val_accuracy: 0.9500\n",
            "Epoch 61/100\n",
            "20/20 - 9s - loss: 0.2520 - accuracy: 0.9187 - val_loss: 0.2126 - val_accuracy: 0.9281\n",
            "\n",
            "Epoch 00061: ReduceLROnPlateau reducing learning rate to 4.0000001899898055e-05.\n",
            "Epoch 62/100\n",
            "20/20 - 9s - loss: 0.2429 - accuracy: 0.9344 - val_loss: 0.1778 - val_accuracy: 0.9406\n",
            "Epoch 63/100\n",
            "20/20 - 9s - loss: 0.1987 - accuracy: 0.9303 - val_loss: 0.1300 - val_accuracy: 0.9563\n",
            "Epoch 64/100\n",
            "20/20 - 9s - loss: 0.2520 - accuracy: 0.9312 - val_loss: 0.1112 - val_accuracy: 0.9688\n",
            "Epoch 65/100\n",
            "20/20 - 9s - loss: 0.2053 - accuracy: 0.9359 - val_loss: 0.1473 - val_accuracy: 0.9594\n",
            "Epoch 66/100\n",
            "20/20 - 9s - loss: 0.2032 - accuracy: 0.9312 - val_loss: 0.1421 - val_accuracy: 0.9406\n",
            "Epoch 67/100\n",
            "20/20 - 9s - loss: 0.1921 - accuracy: 0.9391 - val_loss: 0.1749 - val_accuracy: 0.9250\n",
            "Epoch 68/100\n",
            "20/20 - 9s - loss: 0.2010 - accuracy: 0.9297 - val_loss: 0.1857 - val_accuracy: 0.9406\n",
            "Epoch 69/100\n",
            "20/20 - 9s - loss: 0.2336 - accuracy: 0.9281 - val_loss: 0.1187 - val_accuracy: 0.9594\n",
            "Epoch 70/100\n",
            "20/20 - 9s - loss: 0.2295 - accuracy: 0.9250 - val_loss: 0.1441 - val_accuracy: 0.9531\n",
            "Epoch 71/100\n",
            "20/20 - 9s - loss: 0.1885 - accuracy: 0.9375 - val_loss: 0.1147 - val_accuracy: 0.9656\n",
            "\n",
            "Epoch 00071: ReduceLROnPlateau reducing learning rate to 8.000000525498762e-06.\n",
            "Epoch 00071: early stopping\n"
          ],
          "name": "stdout"
        }
      ]
    },
    {
      "cell_type": "markdown",
      "metadata": {
        "id": "dPdEkxg9SUPM"
      },
      "source": [
        "###Plotting the training curves."
      ]
    },
    {
      "cell_type": "code",
      "metadata": {
        "colab": {
          "base_uri": "https://localhost:8080/",
          "height": 518
        },
        "id": "XD6b9MlcReUc",
        "outputId": "f1c103fa-976c-43c4-ffa2-70c53042623b"
      },
      "source": [
        "#Plot the Learning Curves from model training.\n",
        "plot_training_curves(history)"
      ],
      "execution_count": 114,
      "outputs": [
        {
          "output_type": "display_data",
          "data": {
            "image/png": "[encoded data removed]",
            "text/plain": [
              "<Figure size 1440x576 with 2 Axes>"
            ]
          },
          "metadata": {
            "tags": [],
            "needs_background": "light"
          }
        }
      ]
    },
    {
      "cell_type": "markdown",
      "metadata": {
        "id": "Fkh45hlHRc4G"
      },
      "source": [
        "###Convert to Tensorflow Lite and Quantize model.\n",
        " Converting the model to it's tensorflow lite equivalent and applying quantization provides better efficiency for the live detection on the Raspberry Pi.\n",
        "\n",
        " **Inference will be faster and it will need less memmory space to store model**."
      ]
    },
    {
      "cell_type": "code",
      "metadata": {
        "id": "vxyECzCj7FJE",
        "colab": {
          "base_uri": "https://localhost:8080/"
        },
        "outputId": "4c75a737-d788-49dc-9928-355a91387c79"
      },
      "source": [
        "#Load optimal weights computed during training.\n",
        "model.load_weights(WEIGHTS_FILE)\n",
        "#Convert the model to it's Tensorflow Lite equivalent\n",
        "converter = tf.lite.TFLiteConverter.from_keras_model(model)\n",
        "\n",
        "converter.optimizations = [tf.lite.Optimize.DEFAULT] ##Quantized\n",
        "tflite_model = converter.convert()\n",
        "\n",
        "# Save the model.\n",
        "with open('model.tfliteQuant', 'wb') as f:\n",
        "  f.write(tflite_model)\n"
      ],
      "execution_count": 115,
      "outputs": [
        {
          "output_type": "stream",
          "text": [
            "INFO:tensorflow:Assets written to: /tmp/tmp_8vz0l5o/assets\n"
          ],
          "name": "stdout"
        },
        {
          "output_type": "stream",
          "text": [
            "INFO:tensorflow:Assets written to: /tmp/tmp_8vz0l5o/assets\n"
          ],
          "name": "stderr"
        }
      ]
    },
    {
      "cell_type": "markdown",
      "metadata": {
        "id": "8htl7mExu1Mo"
      },
      "source": [
        "####Scripts to save or restore the whole model. (OPTIONAL)"
      ]
    },
    {
      "cell_type": "code",
      "metadata": {
        "id": "VHILUEzxbg7U",
        "colab": {
          "base_uri": "https://localhost:8080/",
          "height": 344
        },
        "outputId": "a4575735-98ae-4f64-a2c0-073fb4ef86a1"
      },
      "source": [
        "#Save the whole model for experimentations.\n",
        "!mkdir -p saved_model \n",
        "model.save('saved_model/DenseNet169') \n",
        "\n",
        "# my_model directory\n",
        "!ls saved_model\n",
        "# Contains an assets folder, saved_model.pb, and variables folder.\n",
        "!ls saved_model/DenseNet169\n",
        "# Zip it before download (So that you can download the whole directory at once )\n",
        "!zip  -r /content/DenseNet169_In_Zip.zip /content/saved_model\n",
        "print(\"Zip Ready\")\n",
        "# Download it \n",
        "files.download('/content/DenseNet169_In_Zip.zip')"
      ],
      "execution_count": 116,
      "outputs": [
        {
          "output_type": "stream",
          "text": [
            "INFO:tensorflow:Assets written to: saved_model/DenseNet169/assets\n"
          ],
          "name": "stdout"
        },
        {
          "output_type": "stream",
          "text": [
            "INFO:tensorflow:Assets written to: saved_model/DenseNet169/assets\n"
          ],
          "name": "stderr"
        },
        {
          "output_type": "stream",
          "text": [
            "DenseNet169  MobileNetV2\n",
            "assets\tsaved_model.pb\tvariables\n",
            "  adding: content/saved_model/ (stored 0%)\n",
            "  adding: content/saved_model/MobileNetV2/ (stored 0%)\n",
            "  adding: content/saved_model/MobileNetV2/assets/ (stored 0%)\n",
            "  adding: content/saved_model/MobileNetV2/saved_model.pb (deflated 93%)\n",
            "  adding: content/saved_model/MobileNetV2/variables/ (stored 0%)\n",
            "  adding: content/saved_model/MobileNetV2/variables/variables.data-00000-of-00001 (deflated 7%)\n",
            "  adding: content/saved_model/MobileNetV2/variables/variables.index (deflated 77%)\n",
            "  adding: content/saved_model/DenseNet169/ (stored 0%)\n",
            "  adding: content/saved_model/DenseNet169/assets/ (stored 0%)\n",
            "  adding: content/saved_model/DenseNet169/saved_model.pb (deflated 94%)\n",
            "  adding: content/saved_model/DenseNet169/variables/ (stored 0%)\n",
            "  adding: content/saved_model/DenseNet169/variables/variables.data-00000-of-00001 (deflated 9%)\n",
            "  adding: content/saved_model/DenseNet169/variables/variables.index (deflated 80%)\n",
            "Zip Ready\n"
          ],
          "name": "stdout"
        },
        {
          "output_type": "display_data",
          "data": {
            "application/javascript": [
              "\n",
              "    async function download(id, filename, size) {\n",
              "      if (!google.colab.kernel.accessAllowed) {\n",
              "        return;\n",
              "      }\n",
              "      const div = document.createElement('div');\n",
              "      const label = document.createElement('label');\n",
              "      label.textContent = `Downloading \"${filename}\": `;\n",
              "      div.appendChild(label);\n",
              "      const progress = document.createElement('progress');\n",
              "      progress.max = size;\n",
              "      div.appendChild(progress);\n",
              "      document.body.appendChild(div);\n",
              "\n",
              "      const buffers = [];\n",
              "      let downloaded = 0;\n",
              "\n",
              "      const channel = await google.colab.kernel.comms.open(id);\n",
              "      // Send a message to notify the kernel that we're ready.\n",
              "      channel.send({})\n",
              "\n",
              "      for await (const message of channel.messages) {\n",
              "        // Send a message to notify the kernel that we're ready.\n",
              "        channel.send({})\n",
              "        if (message.buffers) {\n",
              "          for (const buffer of message.buffers) {\n",
              "            buffers.push(buffer);\n",
              "            downloaded += buffer.byteLength;\n",
              "            progress.value = downloaded;\n",
              "          }\n",
              "        }\n",
              "      }\n",
              "      const blob = new Blob(buffers, {type: 'application/binary'});\n",
              "      const a = document.createElement('a');\n",
              "      a.href = window.URL.createObjectURL(blob);\n",
              "      a.download = filename;\n",
              "      div.appendChild(a);\n",
              "      a.click();\n",
              "      div.remove();\n",
              "    }\n",
              "  "
            ],
            "text/plain": [
              "<IPython.core.display.Javascript object>"
            ]
          },
          "metadata": {
            "tags": []
          }
        },
        {
          "output_type": "display_data",
          "data": {
            "application/javascript": [
              "download(\"download_ee56e045-8979-4c76-87c3-5a35e1b191f7\", \"DenseNet169_In_Zip.zip\", 90012258)"
            ],
            "text/plain": [
              "<IPython.core.display.Javascript object>"
            ]
          },
          "metadata": {
            "tags": []
          }
        }
      ]
    },
    {
      "cell_type": "code",
      "metadata": {
        "id": "QF4cvt-wdg6G"
      },
      "source": [
        "#Restore an uploaded model for experimentations\n",
        "files.upload()\n",
        "\n",
        "!unzip -q /content/saved_model_In_Zip.zip \n",
        "new_model = tf.keras.models.load_model('/content/content/saved_model/MobileNetV2')\n",
        "# Check its architecture\n",
        "new_model.summary()"
      ],
      "execution_count": null,
      "outputs": []
    },
    {
      "cell_type": "markdown",
      "metadata": {
        "id": "p48cGNbku9TQ"
      },
      "source": [
        "###Evaluate the model's performance."
      ]
    },
    {
      "cell_type": "code",
      "metadata": {
        "colab": {
          "base_uri": "https://localhost:8080/"
        },
        "id": "L3YDoIN3PwlL",
        "outputId": "9f16c711-0409-44b4-daa3-01f6670d87fb"
      },
      "source": [
        "#Load optimal weights computed during training.\n",
        "model.load_weights(WEIGHTS_FILE)\n",
        "eval=model.evaluate(valid_data)\n",
        "print(eval)"
      ],
      "execution_count": 108,
      "outputs": [
        {
          "output_type": "stream",
          "text": [
            "550/550 [==============================] - 63s 115ms/step - loss: 0.1740 - accuracy: 0.9430\n",
            "[0.17396238446235657, 0.9429774880409241]\n"
          ],
          "name": "stdout"
        }
      ]
    },
    {
      "cell_type": "code",
      "metadata": {
        "colab": {
          "base_uri": "https://localhost:8080/"
        },
        "id": "6hCcVRnFfBcH",
        "outputId": "a8582b81-a9aa-4942-f3ec-2ca1179a2aa0"
      },
      "source": [
        "#Get predictions on the test_dataset you define with TEST_PATH\n",
        "test_model(TEST_PATH)"
      ],
      "execution_count": 109,
      "outputs": [
        {
          "output_type": "stream",
          "text": [
            "\n",
            "\n",
            "Actual class : PotatoEarlyBlight5.JPG\n",
            "predicted class name->  MobileV2: Potato___Early_blight\n",
            "\n",
            "\n",
            "Actual class : AppleScab1.JPG\n",
            "predicted class name->  MobileV2: Apple___Apple_scab\n",
            "\n",
            "\n",
            "Actual class : PotatoEarlyBlight3.JPG\n",
            "predicted class name->  MobileV2: Potato___Late_blight\n",
            "\n",
            "\n",
            "Actual class : PotatoEarlyBlight1.JPG\n",
            "predicted class name->  MobileV2: Potato___Early_blight\n",
            "\n",
            "\n",
            "Actual class : TomatoEarlyBlight3.JPG\n",
            "predicted class name->  MobileV2: Tomato___Early_blight\n",
            "\n",
            "\n",
            "Actual class : TomatoYellowCurlVirus1.JPG\n",
            "predicted class name->  MobileV2: Tomato___Tomato_Yellow_Leaf_Curl_Virus\n",
            "\n",
            "\n",
            "Actual class : PotatoEarlyBlight2.JPG\n",
            "predicted class name->  MobileV2: Potato___Early_blight\n",
            "\n",
            "\n",
            "Actual class : TomatoYellowCurlVirus6.JPG\n",
            "predicted class name->  MobileV2: Tomato___Tomato_Yellow_Leaf_Curl_Virus\n",
            "\n",
            "\n",
            "Actual class : CornCommonRust1.JPG\n",
            "predicted class name->  MobileV2: Corn_(maize)___Common_rust_\n",
            "\n",
            "\n",
            "Actual class : TomatoHealthy2.JPG\n",
            "predicted class name->  MobileV2: Tomato___healthy\n",
            "\n",
            "\n",
            "Actual class : TomatoYellowCurlVirus4.JPG\n",
            "predicted class name->  MobileV2: Tomato___Tomato_Yellow_Leaf_Curl_Virus\n",
            "\n",
            "\n",
            "Actual class : AppleScab3.JPG\n",
            "predicted class name->  MobileV2: Apple___Apple_scab\n",
            "\n",
            "\n",
            "Actual class : AppleCedarRust3.JPG\n",
            "predicted class name->  MobileV2: Apple___Cedar_apple_rust\n",
            "\n",
            "\n",
            "Actual class : PotatoHealthy2.JPG\n",
            "predicted class name->  MobileV2: Potato___healthy\n",
            "\n",
            "\n",
            "Actual class : PotatoEarlyBlight4.JPG\n",
            "predicted class name->  MobileV2: Potato___Early_blight\n",
            "\n",
            "\n",
            "Actual class : TomatoEarlyBlight2.JPG\n",
            "predicted class name->  MobileV2: Tomato___Late_blight\n",
            "\n",
            "\n",
            "Actual class : AppleCedarRust2.JPG\n",
            "predicted class name->  MobileV2: Apple___Cedar_apple_rust\n",
            "\n",
            "\n",
            "Actual class : AppleScab2.JPG\n",
            "predicted class name->  MobileV2: Apple___Apple_scab\n",
            "\n",
            "\n",
            "Actual class : TomatoEarlyBlight1.JPG\n",
            "predicted class name->  MobileV2: Tomato___Late_blight\n",
            "\n",
            "\n",
            "Actual class : TomatoHealthy4.JPG\n",
            "predicted class name->  MobileV2: Tomato___Target_Spot\n",
            "\n",
            "\n",
            "Actual class : TomatoYellowCurlVirus2.JPG\n",
            "predicted class name->  MobileV2: Tomato___Tomato_Yellow_Leaf_Curl_Virus\n",
            "\n",
            "\n",
            "Actual class : TomatoYellowCurlVirus3.JPG\n",
            "predicted class name->  MobileV2: Tomato___Tomato_Yellow_Leaf_Curl_Virus\n",
            "\n",
            "\n",
            "Actual class : TomatoHealthy3.JPG\n",
            "predicted class name->  MobileV2: Tomato___healthy\n",
            "\n",
            "\n",
            "Actual class : TomatoHealthy1.JPG\n",
            "predicted class name->  MobileV2: Tomato___healthy\n",
            "\n",
            "\n",
            "Actual class : CornCommonRust3.JPG\n",
            "predicted class name->  MobileV2: Corn_(maize)___Common_rust_\n",
            "\n",
            "\n",
            "Actual class : CornCommonRust2.JPG\n",
            "predicted class name->  MobileV2: Corn_(maize)___Common_rust_\n",
            "\n",
            "\n",
            "Actual class : TomatoEarlyBlight6.JPG\n",
            "predicted class name->  MobileV2: Tomato___Early_blight\n",
            "\n",
            "\n",
            "Actual class : AppleCedarRust4.JPG\n",
            "predicted class name->  MobileV2: Apple___Cedar_apple_rust\n",
            "\n",
            "\n",
            "Actual class : PotatoHealthy1.JPG\n",
            "predicted class name->  MobileV2: Potato___healthy\n",
            "\n",
            "\n",
            "Actual class : TomatoYellowCurlVirus5.JPG\n",
            "predicted class name->  MobileV2: Tomato___Tomato_Yellow_Leaf_Curl_Virus\n",
            "\n",
            "\n",
            "Actual class : TomatoEarlyBlight5.JPG\n",
            "predicted class name->  MobileV2: Tomato___Target_Spot\n",
            "\n",
            "\n",
            "Actual class : TomatoEarlyBlight4.JPG\n",
            "predicted class name->  MobileV2: Tomato___Early_blight\n",
            "\n",
            "\n",
            "Actual class : AppleCedarRust1.JPG\n",
            "predicted class name->  MobileV2: Apple___Cedar_apple_rust\n",
            "\n",
            " Tested:  33 new unseen images\n"
          ],
          "name": "stdout"
        }
      ]
    },
    {
      "cell_type": "markdown",
      "metadata": {
        "id": "zzJdrP-UjJ4p"
      },
      "source": [
        "###Future Work\n",
        "\n",
        "Try different optimizers ,batch-size, dropout-rates and base learning rate."
      ]
    }
  ]
}